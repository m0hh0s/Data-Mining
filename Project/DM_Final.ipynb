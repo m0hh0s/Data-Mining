{
  "nbformat": 4,
  "nbformat_minor": 0,
  "metadata": {
    "colab": {
      "name": "DM_Final.ipynb",
      "provenance": [],
      "collapsed_sections": [
        "BWtDJgcUlGM1",
        "9r5GuFK9Mz1d",
        "CFqmBrVYRpp5",
        "GXzQlF4wkvdm"
      ]
    },
    "kernelspec": {
      "name": "python3",
      "display_name": "Python 3"
    },
    "language_info": {
      "name": "python"
    },
    "gpuClass": "standard"
  },
  "cells": [
    {
      "cell_type": "code",
      "execution_count": 2,
      "metadata": {
        "id": "9OoJL0AgdGYn"
      },
      "outputs": [],
      "source": [
        "import numpy as np\n",
        "import pandas as pd\n",
        "\n",
        "import matplotlib.pyplot as plt\n",
        "\n",
        "from sklearn.preprocessing import StandardScaler\n",
        "from sklearn.model_selection import KFold, cross_val_score, train_test_split, StratifiedKFold, GridSearchCV\n",
        "from sklearn.metrics import confusion_matrix, accuracy_score, precision_score, recall_score\n",
        "from sklearn.metrics import roc_auc_score\n",
        "\n",
        "from xgboost import XGBClassifier\n",
        "\n",
        "from google.colab import drive"
      ]
    },
    {
      "cell_type": "code",
      "source": [
        "drive.mount('/content/gdrive')"
      ],
      "metadata": {
        "id": "e-M7I2KPCyon"
      },
      "execution_count": null,
      "outputs": []
    },
    {
      "cell_type": "code",
      "source": [
        "df = pd.read_csv('/content/gdrive/MyDrive/Colab Notebooks/diabetes.csv')\n",
        "\n",
        "df.info()"
      ],
      "metadata": {
        "id": "YrqCatAKe9BC"
      },
      "execution_count": null,
      "outputs": []
    },
    {
      "cell_type": "markdown",
      "source": [
        "# Data preprocessing\n",
        "\n",
        "\n",
        "\n",
        "\n"
      ],
      "metadata": {
        "id": "BWtDJgcUlGM1"
      }
    },
    {
      "cell_type": "code",
      "source": [
        "df.isnull().sum()"
      ],
      "metadata": {
        "colab": {
          "base_uri": "https://localhost:8080/"
        },
        "id": "oLe4GVR_lLzk",
        "outputId": "388fb558-ece7-467e-841a-b1f945b98d6f"
      },
      "execution_count": 6,
      "outputs": [
        {
          "output_type": "execute_result",
          "data": {
            "text/plain": [
              "Unnamed: 0                   0\n",
              "Diabetes_binary              0\n",
              "HighBP                       0\n",
              "High Cholesterol             0\n",
              "Cholesterol Check            0\n",
              "BMI                          1\n",
              "Smoker                       0\n",
              "Stroke                       0\n",
              "HeartDiseaseorAttack         1\n",
              "Physical Activity            1\n",
              "Fruits                       2\n",
              "Veggies                      1\n",
              "Heavy Alcohol Consumption    1\n",
              "Any Health Care              2\n",
              "No Doctor because of Cost    2\n",
              "General Health               1\n",
              "Mental Health                1\n",
              "Physical Health              1\n",
              "Difficulty Walking           2\n",
              "Sex                          1\n",
              "Age                          1\n",
              "Education                    1\n",
              "Income                       1\n",
              "dtype: int64"
            ]
          },
          "metadata": {},
          "execution_count": 6
        }
      ]
    },
    {
      "cell_type": "code",
      "source": [
        "df = df.dropna(how='any')\n",
        "df = df.drop(60000)  # Unknown Income \n",
        "df = df.drop(['Unnamed: 0'], axis = 1)  # ID is not a feature\n",
        "\n",
        "df.isnull().sum()"
      ],
      "metadata": {
        "colab": {
          "base_uri": "https://localhost:8080/"
        },
        "id": "gWawNoIRm3hs",
        "outputId": "f281f322-4da7-4fd5-a9b8-e2b98d79b61e"
      },
      "execution_count": 7,
      "outputs": [
        {
          "output_type": "execute_result",
          "data": {
            "text/plain": [
              "Diabetes_binary              0\n",
              "HighBP                       0\n",
              "High Cholesterol             0\n",
              "Cholesterol Check            0\n",
              "BMI                          0\n",
              "Smoker                       0\n",
              "Stroke                       0\n",
              "HeartDiseaseorAttack         0\n",
              "Physical Activity            0\n",
              "Fruits                       0\n",
              "Veggies                      0\n",
              "Heavy Alcohol Consumption    0\n",
              "Any Health Care              0\n",
              "No Doctor because of Cost    0\n",
              "General Health               0\n",
              "Mental Health                0\n",
              "Physical Health              0\n",
              "Difficulty Walking           0\n",
              "Sex                          0\n",
              "Age                          0\n",
              "Education                    0\n",
              "Income                       0\n",
              "dtype: int64"
            ]
          },
          "metadata": {},
          "execution_count": 7
        }
      ]
    },
    {
      "cell_type": "markdown",
      "source": [
        "**Missing values** dealt with\n"
      ],
      "metadata": {
        "id": "_KIMdV04nVU-"
      }
    },
    {
      "cell_type": "code",
      "source": [
        "df.columns = df.columns.str.replace(' ','_')\n",
        "\n",
        "df.info()"
      ],
      "metadata": {
        "colab": {
          "base_uri": "https://localhost:8080/"
        },
        "id": "dlV9vRFuna7I",
        "outputId": "32652de5-97d8-48ce-caf1-3c7cf27b4a31"
      },
      "execution_count": 8,
      "outputs": [
        {
          "output_type": "stream",
          "name": "stdout",
          "text": [
            "<class 'pandas.core.frame.DataFrame'>\n",
            "Int64Index: 70685 entries, 0 to 70691\n",
            "Data columns (total 22 columns):\n",
            " #   Column                     Non-Null Count  Dtype  \n",
            "---  ------                     --------------  -----  \n",
            " 0   Diabetes_binary            70685 non-null  float64\n",
            " 1   HighBP                     70685 non-null  float64\n",
            " 2   High_Cholesterol           70685 non-null  float64\n",
            " 3   Cholesterol_Check          70685 non-null  float64\n",
            " 4   BMI                        70685 non-null  float64\n",
            " 5   Smoker                     70685 non-null  float64\n",
            " 6   Stroke                     70685 non-null  float64\n",
            " 7   HeartDiseaseorAttack       70685 non-null  float64\n",
            " 8   Physical_Activity          70685 non-null  float64\n",
            " 9   Fruits                     70685 non-null  float64\n",
            " 10  Veggies                    70685 non-null  float64\n",
            " 11  Heavy_Alcohol_Consumption  70685 non-null  float64\n",
            " 12  Any_Health_Care            70685 non-null  float64\n",
            " 13  No_Doctor_because_of_Cost  70685 non-null  float64\n",
            " 14  General_Health             70685 non-null  object \n",
            " 15  Mental_Health              70685 non-null  float64\n",
            " 16  Physical_Health            70685 non-null  float64\n",
            " 17  Difficulty_Walking         70685 non-null  float64\n",
            " 18  Sex                        70685 non-null  object \n",
            " 19  Age                        70685 non-null  float64\n",
            " 20  Education                  70685 non-null  object \n",
            " 21  Income                     70685 non-null  object \n",
            "dtypes: float64(18), object(4)\n",
            "memory usage: 12.4+ MB\n"
          ]
        }
      ]
    },
    {
      "cell_type": "markdown",
      "source": [
        "**White spaces** in column names changed to **underscore**"
      ],
      "metadata": {
        "id": "8i1VUel6wvgV"
      }
    },
    {
      "cell_type": "code",
      "source": [
        "print(df['General_Health'].unique())\n",
        "print(df['Sex'].unique())\n",
        "print(df['Education'].unique())\n",
        "print(df['Income'].unique())"
      ],
      "metadata": {
        "colab": {
          "base_uri": "https://localhost:8080/"
        },
        "id": "ulLM8Kw1zgCl",
        "outputId": "8b11cc81-6445-4d7a-8f06-0e95330725f6"
      },
      "execution_count": 9,
      "outputs": [
        {
          "output_type": "stream",
          "name": "stdout",
          "text": [
            "['Medium' 'High' 'Good' 'Low' 'Very Low']\n",
            "['male' 'female']\n",
            "['Cat6' 'Cat5' 'Cat4' 'Cat3' 'Cat2' 'Cat1']\n",
            "['Cat8' 'Cat7' 'Cat6' 'Cat3' 'Cat4' 'Cat1' 'Cat5' 'Cat2']\n"
          ]
        }
      ]
    },
    {
      "cell_type": "code",
      "source": [
        "df = pd.get_dummies(df, columns=['General_Health', 'Sex', 'Education', 'Income'])\n",
        "\n",
        "df.info()"
      ],
      "metadata": {
        "colab": {
          "base_uri": "https://localhost:8080/"
        },
        "id": "z1ylxwXr4Npk",
        "outputId": "0e0988ee-a8f1-4607-9ce0-e9942efac159"
      },
      "execution_count": 10,
      "outputs": [
        {
          "output_type": "stream",
          "name": "stdout",
          "text": [
            "<class 'pandas.core.frame.DataFrame'>\n",
            "Int64Index: 70685 entries, 0 to 70691\n",
            "Data columns (total 39 columns):\n",
            " #   Column                     Non-Null Count  Dtype  \n",
            "---  ------                     --------------  -----  \n",
            " 0   Diabetes_binary            70685 non-null  float64\n",
            " 1   HighBP                     70685 non-null  float64\n",
            " 2   High_Cholesterol           70685 non-null  float64\n",
            " 3   Cholesterol_Check          70685 non-null  float64\n",
            " 4   BMI                        70685 non-null  float64\n",
            " 5   Smoker                     70685 non-null  float64\n",
            " 6   Stroke                     70685 non-null  float64\n",
            " 7   HeartDiseaseorAttack       70685 non-null  float64\n",
            " 8   Physical_Activity          70685 non-null  float64\n",
            " 9   Fruits                     70685 non-null  float64\n",
            " 10  Veggies                    70685 non-null  float64\n",
            " 11  Heavy_Alcohol_Consumption  70685 non-null  float64\n",
            " 12  Any_Health_Care            70685 non-null  float64\n",
            " 13  No_Doctor_because_of_Cost  70685 non-null  float64\n",
            " 14  Mental_Health              70685 non-null  float64\n",
            " 15  Physical_Health            70685 non-null  float64\n",
            " 16  Difficulty_Walking         70685 non-null  float64\n",
            " 17  Age                        70685 non-null  float64\n",
            " 18  General_Health_Good        70685 non-null  uint8  \n",
            " 19  General_Health_High        70685 non-null  uint8  \n",
            " 20  General_Health_Low         70685 non-null  uint8  \n",
            " 21  General_Health_Medium      70685 non-null  uint8  \n",
            " 22  General_Health_Very Low    70685 non-null  uint8  \n",
            " 23  Sex_female                 70685 non-null  uint8  \n",
            " 24  Sex_male                   70685 non-null  uint8  \n",
            " 25  Education_Cat1             70685 non-null  uint8  \n",
            " 26  Education_Cat2             70685 non-null  uint8  \n",
            " 27  Education_Cat3             70685 non-null  uint8  \n",
            " 28  Education_Cat4             70685 non-null  uint8  \n",
            " 29  Education_Cat5             70685 non-null  uint8  \n",
            " 30  Education_Cat6             70685 non-null  uint8  \n",
            " 31  Income_Cat1                70685 non-null  uint8  \n",
            " 32  Income_Cat2                70685 non-null  uint8  \n",
            " 33  Income_Cat3                70685 non-null  uint8  \n",
            " 34  Income_Cat4                70685 non-null  uint8  \n",
            " 35  Income_Cat5                70685 non-null  uint8  \n",
            " 36  Income_Cat6                70685 non-null  uint8  \n",
            " 37  Income_Cat7                70685 non-null  uint8  \n",
            " 38  Income_Cat8                70685 non-null  uint8  \n",
            "dtypes: float64(18), uint8(21)\n",
            "memory usage: 11.7 MB\n"
          ]
        }
      ]
    },
    {
      "cell_type": "markdown",
      "source": [
        "**Categorical** features **encoded**!"
      ],
      "metadata": {
        "id": "9A_BR86T_RSV"
      }
    },
    {
      "cell_type": "code",
      "source": [
        "X = df.drop(['Diabetes_binary'], axis=1)\n",
        "y = df['Diabetes_binary']"
      ],
      "metadata": {
        "id": "2A4ecykhBF2a"
      },
      "execution_count": 11,
      "outputs": []
    },
    {
      "cell_type": "code",
      "source": [
        "x_train, x_test, y_train, y_test = train_test_split(X, y, test_size=0.3, random_state=42, stratify=y)"
      ],
      "metadata": {
        "id": "O_V3JqgKBzpZ"
      },
      "execution_count": 12,
      "outputs": []
    },
    {
      "cell_type": "code",
      "source": [
        "num = ['BMI', 'Mental_Health', 'Physical_Health', 'Age']\n",
        "scaler = StandardScaler()\n",
        "x_train_sc = scaler.fit_transform(x_train[num])\n",
        "x_test_sc = scaler.transform(x_test[num])\n",
        "\n",
        "x_train[num] = x_train_sc\n",
        "x_test[num] = x_test_sc"
      ],
      "metadata": {
        "id": "S2a2O5EFCKnC"
      },
      "execution_count": 13,
      "outputs": []
    },
    {
      "cell_type": "markdown",
      "source": [
        "**Numerical** data is **scaled**\n",
        "\n",
        "**test & train** sets are **ready** "
      ],
      "metadata": {
        "id": "C98zTpYDDBHI"
      }
    },
    {
      "cell_type": "code",
      "source": [
        "def report(actual, prediction):\n",
        "    print(\"Accuracy: {:.3f}\\nPrecision: {:.3f}\\nRecall: {:.3f}\\n\".format(\n",
        "        accuracy_score(actual, prediction),\n",
        "        precision_score(actual, prediction),\n",
        "        recall_score(actual, prediction)))\n",
        "    print('Confusion Matrix:')\n",
        "    print(confusion_matrix(actual, prediction))\n",
        "\n",
        "def my_roc_auc_score(model, X, y): \n",
        "  return roc_auc_score(y, model.predict_proba(X)[:,1])"
      ],
      "metadata": {
        "id": "lKotEj-POiOM"
      },
      "execution_count": 14,
      "outputs": []
    },
    {
      "cell_type": "markdown",
      "source": [
        "# Classification"
      ],
      "metadata": {
        "id": "9r5GuFK9Mz1d"
      }
    },
    {
      "cell_type": "code",
      "source": [
        "# setup parameters for xgboost\n",
        "param = {'learning_rate' : 0.1,\n",
        "        'max_depth' : 4,\n",
        "        'n_estimator' : 200,\n",
        "        'subsample' : 0.5,\n",
        "        'colsample_bytree' : 1,\n",
        "        'random_seed' : 123,\n",
        "        'eval_metric' : 'auc',\n",
        "        'verbosity' : 1,\n",
        "        'early_stopping_rounds' : 10\n",
        "}\n",
        "\n",
        "xgbc = XGBClassifier()\n",
        "xgbc.set_params(**param)\n",
        "\n",
        "xgbc.fit(x_train, y_train)\n",
        "\n",
        "pred = xgbc.predict(x_test)\n",
        "\n",
        "print('Test results: \\n')\n",
        "report(y_test, pred)"
      ],
      "metadata": {
        "colab": {
          "base_uri": "https://localhost:8080/"
        },
        "id": "OmT34BFCM7Q_",
        "outputId": "2b47b3e2-72ac-41e2-8cbd-c488b193dad3"
      },
      "execution_count": 74,
      "outputs": [
        {
          "output_type": "stream",
          "name": "stdout",
          "text": [
            "Test results: \n",
            "\n",
            "Accuracy: 0.757\n",
            "Precision: 0.737\n",
            "Recall: 0.800\n",
            "\n",
            "Confusion Matrix:\n",
            "[[7574 3029]\n",
            " [2124 8479]]\n"
          ]
        }
      ]
    },
    {
      "cell_type": "markdown",
      "source": [
        "These results are **not good** enough!!!"
      ],
      "metadata": {
        "id": "MzwKeUsjRavG"
      }
    },
    {
      "cell_type": "markdown",
      "source": [
        "# Hyper-parameter tuning"
      ],
      "metadata": {
        "id": "CFqmBrVYRpp5"
      }
    },
    {
      "cell_type": "code",
      "source": [
        "xgbc.get_params()"
      ],
      "metadata": {
        "colab": {
          "base_uri": "https://localhost:8080/"
        },
        "id": "jOp0lfXaR07C",
        "outputId": "6d325b4b-bb32-4788-8c77-26ade959d60d"
      },
      "execution_count": 16,
      "outputs": [
        {
          "output_type": "execute_result",
          "data": {
            "text/plain": [
              "{'base_score': 0.5,\n",
              " 'booster': 'gbtree',\n",
              " 'colsample_bylevel': 1,\n",
              " 'colsample_bynode': 1,\n",
              " 'colsample_bytree': 1,\n",
              " 'early_stopping_rounds': 10,\n",
              " 'eval_metric': 'auc',\n",
              " 'gamma': 0,\n",
              " 'learning_rate': 0.1,\n",
              " 'max_delta_step': 0,\n",
              " 'max_depth': 4,\n",
              " 'min_child_weight': 1,\n",
              " 'missing': None,\n",
              " 'n_estimator': 200,\n",
              " 'n_estimators': 100,\n",
              " 'n_jobs': 1,\n",
              " 'nthread': None,\n",
              " 'objective': 'binary:logistic',\n",
              " 'random_seed': 123,\n",
              " 'random_state': 0,\n",
              " 'reg_alpha': 0,\n",
              " 'reg_lambda': 1,\n",
              " 'scale_pos_weight': 1,\n",
              " 'seed': None,\n",
              " 'silent': None,\n",
              " 'subsample': 0.5,\n",
              " 'verbosity': 1}"
            ]
          },
          "metadata": {},
          "execution_count": 16
        }
      ]
    },
    {
      "cell_type": "code",
      "source": [
        "xgbc_tune = XGBClassifier(eval_metric='auc', subsample=0.5) \n",
        "\n",
        "learning_rate_list = [0.02, 0.05, 0.1, 0.3]\n",
        "max_depth_list = [2, 3, 4] \n",
        "n_estimators_list = [100, 200, 300] \n",
        "colsample_bytree = [0.8, 1]\n",
        "\n",
        "param_grid = dict(learning_rate=learning_rate_list,\n",
        "                  max_depth=max_depth_list,\n",
        "                  n_estimators=n_estimators_list,\n",
        "                  colsample_bytree=colsample_bytree)\n",
        "\n",
        "kfold = StratifiedKFold(n_splits=3, shuffle=True, random_state=10)\n",
        "\n",
        "grid_search = GridSearchCV(xgbc_tune, param_grid, scoring=my_roc_auc_score, n_jobs=-1, cv=kfold)\n",
        "\n",
        "grid_result = grid_search.fit(x_train, y_train)\n",
        "\n",
        "\n",
        "print(\"Best: %f using %s\" % (grid_result.best_score_, grid_result.best_params_))"
      ],
      "metadata": {
        "colab": {
          "base_uri": "https://localhost:8080/"
        },
        "id": "TzXkr-zlT5-e",
        "outputId": "1ed47aa4-0d31-42ad-e7e4-ead96c801608"
      },
      "execution_count": 18,
      "outputs": [
        {
          "output_type": "stream",
          "name": "stdout",
          "text": [
            "Best: 0.829302 using {'colsample_bytree': 1, 'learning_rate': 0.05, 'max_depth': 3, 'n_estimators': 300}\n"
          ]
        }
      ]
    },
    {
      "cell_type": "code",
      "source": [
        "xgbc_final = XGBClassifier(eval_metric='auc', subsample=0.5) \n",
        "xgbc_final.set_params(**grid_result.best_params_)\n",
        "\n",
        "xgbc.fit(x_train, y_train)\n",
        "\n",
        "print('Test results:')\n",
        "pred = xgbc.predict(x_test)\n",
        "report(y_test, pred)"
      ],
      "metadata": {
        "colab": {
          "base_uri": "https://localhost:8080/"
        },
        "id": "BCzFXvR8j3dq",
        "outputId": "a6b81ccb-650c-4246-93f2-2fa0b8e5b45e"
      },
      "execution_count": 79,
      "outputs": [
        {
          "output_type": "stream",
          "name": "stdout",
          "text": [
            "Test results:\n",
            "Accuracy: 0.757\n",
            "Precision: 0.737\n",
            "Recall: 0.800\n",
            "\n",
            "Confusion Matrix:\n",
            "[[7574 3029]\n",
            " [2124 8479]]\n"
          ]
        }
      ]
    },
    {
      "cell_type": "markdown",
      "source": [
        "# Visualization"
      ],
      "metadata": {
        "id": "GXzQlF4wkvdm"
      }
    },
    {
      "cell_type": "code",
      "source": [
        "means = grid_result.cv_results_['mean_test_score']\n",
        "stds = grid_result.cv_results_['std_test_score']\n",
        "params = grid_result.cv_results_['params']\n",
        "\n",
        "params = np.array(params)\n",
        "for i in range(params.size):\n",
        "  print(\"ID \" + str(i) + \": \" + str(params[i]))\n",
        "\n",
        "fig = plt.figure()\n",
        "plt.scatter(np.arange(0, 72), means)\n",
        "plt.xlabel('Params ID')\n",
        "plt.ylabel('Score')\n",
        "plt.show()"
      ],
      "metadata": {
        "colab": {
          "base_uri": "https://localhost:8080/",
          "height": 1000
        },
        "id": "CesBEwZSk1Aa",
        "outputId": "4df996ae-5a17-4cc6-f6b9-515830a9e968"
      },
      "execution_count": 73,
      "outputs": [
        {
          "output_type": "stream",
          "name": "stdout",
          "text": [
            "ID 0: {'colsample_bytree': 0.8, 'learning_rate': 0.02, 'max_depth': 2, 'n_estimators': 100}\n",
            "ID 1: {'colsample_bytree': 0.8, 'learning_rate': 0.02, 'max_depth': 2, 'n_estimators': 200}\n",
            "ID 2: {'colsample_bytree': 0.8, 'learning_rate': 0.02, 'max_depth': 2, 'n_estimators': 300}\n",
            "ID 3: {'colsample_bytree': 0.8, 'learning_rate': 0.02, 'max_depth': 3, 'n_estimators': 100}\n",
            "ID 4: {'colsample_bytree': 0.8, 'learning_rate': 0.02, 'max_depth': 3, 'n_estimators': 200}\n",
            "ID 5: {'colsample_bytree': 0.8, 'learning_rate': 0.02, 'max_depth': 3, 'n_estimators': 300}\n",
            "ID 6: {'colsample_bytree': 0.8, 'learning_rate': 0.02, 'max_depth': 4, 'n_estimators': 100}\n",
            "ID 7: {'colsample_bytree': 0.8, 'learning_rate': 0.02, 'max_depth': 4, 'n_estimators': 200}\n",
            "ID 8: {'colsample_bytree': 0.8, 'learning_rate': 0.02, 'max_depth': 4, 'n_estimators': 300}\n",
            "ID 9: {'colsample_bytree': 0.8, 'learning_rate': 0.05, 'max_depth': 2, 'n_estimators': 100}\n",
            "ID 10: {'colsample_bytree': 0.8, 'learning_rate': 0.05, 'max_depth': 2, 'n_estimators': 200}\n",
            "ID 11: {'colsample_bytree': 0.8, 'learning_rate': 0.05, 'max_depth': 2, 'n_estimators': 300}\n",
            "ID 12: {'colsample_bytree': 0.8, 'learning_rate': 0.05, 'max_depth': 3, 'n_estimators': 100}\n",
            "ID 13: {'colsample_bytree': 0.8, 'learning_rate': 0.05, 'max_depth': 3, 'n_estimators': 200}\n",
            "ID 14: {'colsample_bytree': 0.8, 'learning_rate': 0.05, 'max_depth': 3, 'n_estimators': 300}\n",
            "ID 15: {'colsample_bytree': 0.8, 'learning_rate': 0.05, 'max_depth': 4, 'n_estimators': 100}\n",
            "ID 16: {'colsample_bytree': 0.8, 'learning_rate': 0.05, 'max_depth': 4, 'n_estimators': 200}\n",
            "ID 17: {'colsample_bytree': 0.8, 'learning_rate': 0.05, 'max_depth': 4, 'n_estimators': 300}\n",
            "ID 18: {'colsample_bytree': 0.8, 'learning_rate': 0.1, 'max_depth': 2, 'n_estimators': 100}\n",
            "ID 19: {'colsample_bytree': 0.8, 'learning_rate': 0.1, 'max_depth': 2, 'n_estimators': 200}\n",
            "ID 20: {'colsample_bytree': 0.8, 'learning_rate': 0.1, 'max_depth': 2, 'n_estimators': 300}\n",
            "ID 21: {'colsample_bytree': 0.8, 'learning_rate': 0.1, 'max_depth': 3, 'n_estimators': 100}\n",
            "ID 22: {'colsample_bytree': 0.8, 'learning_rate': 0.1, 'max_depth': 3, 'n_estimators': 200}\n",
            "ID 23: {'colsample_bytree': 0.8, 'learning_rate': 0.1, 'max_depth': 3, 'n_estimators': 300}\n",
            "ID 24: {'colsample_bytree': 0.8, 'learning_rate': 0.1, 'max_depth': 4, 'n_estimators': 100}\n",
            "ID 25: {'colsample_bytree': 0.8, 'learning_rate': 0.1, 'max_depth': 4, 'n_estimators': 200}\n",
            "ID 26: {'colsample_bytree': 0.8, 'learning_rate': 0.1, 'max_depth': 4, 'n_estimators': 300}\n",
            "ID 27: {'colsample_bytree': 0.8, 'learning_rate': 0.3, 'max_depth': 2, 'n_estimators': 100}\n",
            "ID 28: {'colsample_bytree': 0.8, 'learning_rate': 0.3, 'max_depth': 2, 'n_estimators': 200}\n",
            "ID 29: {'colsample_bytree': 0.8, 'learning_rate': 0.3, 'max_depth': 2, 'n_estimators': 300}\n",
            "ID 30: {'colsample_bytree': 0.8, 'learning_rate': 0.3, 'max_depth': 3, 'n_estimators': 100}\n",
            "ID 31: {'colsample_bytree': 0.8, 'learning_rate': 0.3, 'max_depth': 3, 'n_estimators': 200}\n",
            "ID 32: {'colsample_bytree': 0.8, 'learning_rate': 0.3, 'max_depth': 3, 'n_estimators': 300}\n",
            "ID 33: {'colsample_bytree': 0.8, 'learning_rate': 0.3, 'max_depth': 4, 'n_estimators': 100}\n",
            "ID 34: {'colsample_bytree': 0.8, 'learning_rate': 0.3, 'max_depth': 4, 'n_estimators': 200}\n",
            "ID 35: {'colsample_bytree': 0.8, 'learning_rate': 0.3, 'max_depth': 4, 'n_estimators': 300}\n",
            "ID 36: {'colsample_bytree': 1, 'learning_rate': 0.02, 'max_depth': 2, 'n_estimators': 100}\n",
            "ID 37: {'colsample_bytree': 1, 'learning_rate': 0.02, 'max_depth': 2, 'n_estimators': 200}\n",
            "ID 38: {'colsample_bytree': 1, 'learning_rate': 0.02, 'max_depth': 2, 'n_estimators': 300}\n",
            "ID 39: {'colsample_bytree': 1, 'learning_rate': 0.02, 'max_depth': 3, 'n_estimators': 100}\n",
            "ID 40: {'colsample_bytree': 1, 'learning_rate': 0.02, 'max_depth': 3, 'n_estimators': 200}\n",
            "ID 41: {'colsample_bytree': 1, 'learning_rate': 0.02, 'max_depth': 3, 'n_estimators': 300}\n",
            "ID 42: {'colsample_bytree': 1, 'learning_rate': 0.02, 'max_depth': 4, 'n_estimators': 100}\n",
            "ID 43: {'colsample_bytree': 1, 'learning_rate': 0.02, 'max_depth': 4, 'n_estimators': 200}\n",
            "ID 44: {'colsample_bytree': 1, 'learning_rate': 0.02, 'max_depth': 4, 'n_estimators': 300}\n",
            "ID 45: {'colsample_bytree': 1, 'learning_rate': 0.05, 'max_depth': 2, 'n_estimators': 100}\n",
            "ID 46: {'colsample_bytree': 1, 'learning_rate': 0.05, 'max_depth': 2, 'n_estimators': 200}\n",
            "ID 47: {'colsample_bytree': 1, 'learning_rate': 0.05, 'max_depth': 2, 'n_estimators': 300}\n",
            "ID 48: {'colsample_bytree': 1, 'learning_rate': 0.05, 'max_depth': 3, 'n_estimators': 100}\n",
            "ID 49: {'colsample_bytree': 1, 'learning_rate': 0.05, 'max_depth': 3, 'n_estimators': 200}\n",
            "ID 50: {'colsample_bytree': 1, 'learning_rate': 0.05, 'max_depth': 3, 'n_estimators': 300}\n",
            "ID 51: {'colsample_bytree': 1, 'learning_rate': 0.05, 'max_depth': 4, 'n_estimators': 100}\n",
            "ID 52: {'colsample_bytree': 1, 'learning_rate': 0.05, 'max_depth': 4, 'n_estimators': 200}\n",
            "ID 53: {'colsample_bytree': 1, 'learning_rate': 0.05, 'max_depth': 4, 'n_estimators': 300}\n",
            "ID 54: {'colsample_bytree': 1, 'learning_rate': 0.1, 'max_depth': 2, 'n_estimators': 100}\n",
            "ID 55: {'colsample_bytree': 1, 'learning_rate': 0.1, 'max_depth': 2, 'n_estimators': 200}\n",
            "ID 56: {'colsample_bytree': 1, 'learning_rate': 0.1, 'max_depth': 2, 'n_estimators': 300}\n",
            "ID 57: {'colsample_bytree': 1, 'learning_rate': 0.1, 'max_depth': 3, 'n_estimators': 100}\n",
            "ID 58: {'colsample_bytree': 1, 'learning_rate': 0.1, 'max_depth': 3, 'n_estimators': 200}\n",
            "ID 59: {'colsample_bytree': 1, 'learning_rate': 0.1, 'max_depth': 3, 'n_estimators': 300}\n",
            "ID 60: {'colsample_bytree': 1, 'learning_rate': 0.1, 'max_depth': 4, 'n_estimators': 100}\n",
            "ID 61: {'colsample_bytree': 1, 'learning_rate': 0.1, 'max_depth': 4, 'n_estimators': 200}\n",
            "ID 62: {'colsample_bytree': 1, 'learning_rate': 0.1, 'max_depth': 4, 'n_estimators': 300}\n",
            "ID 63: {'colsample_bytree': 1, 'learning_rate': 0.3, 'max_depth': 2, 'n_estimators': 100}\n",
            "ID 64: {'colsample_bytree': 1, 'learning_rate': 0.3, 'max_depth': 2, 'n_estimators': 200}\n",
            "ID 65: {'colsample_bytree': 1, 'learning_rate': 0.3, 'max_depth': 2, 'n_estimators': 300}\n",
            "ID 66: {'colsample_bytree': 1, 'learning_rate': 0.3, 'max_depth': 3, 'n_estimators': 100}\n",
            "ID 67: {'colsample_bytree': 1, 'learning_rate': 0.3, 'max_depth': 3, 'n_estimators': 200}\n",
            "ID 68: {'colsample_bytree': 1, 'learning_rate': 0.3, 'max_depth': 3, 'n_estimators': 300}\n",
            "ID 69: {'colsample_bytree': 1, 'learning_rate': 0.3, 'max_depth': 4, 'n_estimators': 100}\n",
            "ID 70: {'colsample_bytree': 1, 'learning_rate': 0.3, 'max_depth': 4, 'n_estimators': 200}\n",
            "ID 71: {'colsample_bytree': 1, 'learning_rate': 0.3, 'max_depth': 4, 'n_estimators': 300}\n"
          ]
        },
        {
          "output_type": "display_data",
          "data": {
            "text/plain": [
              "<Figure size 432x288 with 1 Axes>"
            ],
            "image/png": "[encoded data removed]"
          },
          "metadata": {
            "needs_background": "light"
          }
        }
      ]
    }
  ]
}